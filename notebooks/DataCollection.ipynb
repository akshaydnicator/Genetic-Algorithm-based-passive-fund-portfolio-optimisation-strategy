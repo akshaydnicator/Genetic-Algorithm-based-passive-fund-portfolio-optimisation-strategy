{
 "cells": [
  {
   "cell_type": "code",
   "execution_count": 1,
   "id": "turkish-client",
   "metadata": {},
   "outputs": [],
   "source": [
    "import pandas as pd\n",
    "import yfinance as yf"
   ]
  },
  {
   "cell_type": "code",
   "execution_count": 2,
   "id": "heavy-native",
   "metadata": {},
   "outputs": [
    {
     "data": {
      "text/html": [
       "<div>\n",
       "<style scoped>\n",
       "    .dataframe tbody tr th:only-of-type {\n",
       "        vertical-align: middle;\n",
       "    }\n",
       "\n",
       "    .dataframe tbody tr th {\n",
       "        vertical-align: top;\n",
       "    }\n",
       "\n",
       "    .dataframe thead th {\n",
       "        text-align: right;\n",
       "    }\n",
       "</style>\n",
       "<table border=\"1\" class=\"dataframe\">\n",
       "  <thead>\n",
       "    <tr style=\"text-align: right;\">\n",
       "      <th></th>\n",
       "      <th>co_code</th>\n",
       "      <th>company_name</th>\n",
       "      <th>co_stkdate</th>\n",
       "      <th>nse_closing_price</th>\n",
       "      <th>nse_market_cap</th>\n",
       "    </tr>\n",
       "  </thead>\n",
       "  <tbody>\n",
       "    <tr>\n",
       "      <th>0</th>\n",
       "      <td>18102</td>\n",
       "      <td>APOLLO HOSPITALS ENTERPRISE LTD.</td>\n",
       "      <td>01-01-1990</td>\n",
       "      <td>NaN</td>\n",
       "      <td>NaN</td>\n",
       "    </tr>\n",
       "    <tr>\n",
       "      <th>1</th>\n",
       "      <td>18102</td>\n",
       "      <td>APOLLO HOSPITALS ENTERPRISE LTD.</td>\n",
       "      <td>03-01-1990</td>\n",
       "      <td>NaN</td>\n",
       "      <td>NaN</td>\n",
       "    </tr>\n",
       "    <tr>\n",
       "      <th>2</th>\n",
       "      <td>18102</td>\n",
       "      <td>APOLLO HOSPITALS ENTERPRISE LTD.</td>\n",
       "      <td>04-01-1990</td>\n",
       "      <td>NaN</td>\n",
       "      <td>NaN</td>\n",
       "    </tr>\n",
       "    <tr>\n",
       "      <th>3</th>\n",
       "      <td>18102</td>\n",
       "      <td>APOLLO HOSPITALS ENTERPRISE LTD.</td>\n",
       "      <td>05-01-1990</td>\n",
       "      <td>NaN</td>\n",
       "      <td>NaN</td>\n",
       "    </tr>\n",
       "    <tr>\n",
       "      <th>4</th>\n",
       "      <td>18102</td>\n",
       "      <td>APOLLO HOSPITALS ENTERPRISE LTD.</td>\n",
       "      <td>08-01-1990</td>\n",
       "      <td>NaN</td>\n",
       "      <td>NaN</td>\n",
       "    </tr>\n",
       "  </tbody>\n",
       "</table>\n",
       "</div>"
      ],
      "text/plain": [
       "   co_code                      company_name  co_stkdate  nse_closing_price  \\\n",
       "0    18102  APOLLO HOSPITALS ENTERPRISE LTD.  01-01-1990                NaN   \n",
       "1    18102  APOLLO HOSPITALS ENTERPRISE LTD.  03-01-1990                NaN   \n",
       "2    18102  APOLLO HOSPITALS ENTERPRISE LTD.  04-01-1990                NaN   \n",
       "3    18102  APOLLO HOSPITALS ENTERPRISE LTD.  05-01-1990                NaN   \n",
       "4    18102  APOLLO HOSPITALS ENTERPRISE LTD.  08-01-1990                NaN   \n",
       "\n",
       "   nse_market_cap  \n",
       "0             NaN  \n",
       "1             NaN  \n",
       "2             NaN  \n",
       "3             NaN  \n",
       "4             NaN  "
      ]
     },
     "execution_count": 2,
     "metadata": {},
     "output_type": "execute_result"
    }
   ],
   "source": [
    "df = pd.read_csv(\"NSE50data.txt\", sep=\"|\", header=0)\n",
    "df.head()"
   ]
  },
  {
   "cell_type": "code",
   "execution_count": 3,
   "id": "straight-accounting",
   "metadata": {},
   "outputs": [],
   "source": [
    "prowessList = df.company_name.unique().tolist()\n",
    "\n",
    "def getTS(data='nse_closing_price'):\n",
    "    maindf = pd.read_csv(\"TS.csv\")\n",
    "    maindf['date'] = pd.to_datetime(maindf['date'], format='%Y-%m-%d')\n",
    "    maindf.set_index('date', inplace=True,drop=True)\n",
    "    maindf.sort_index(inplace=True, ascending=True)\n",
    "\n",
    "\n",
    "    for company in prowessList:\n",
    "        temp = df[df['company_name'].str.contains(f\"{company}\")].copy()\n",
    "        temp = temp[['co_stkdate',data]]\n",
    "        temp.rename(columns={data:f'{company}'},inplace=True)\n",
    "\n",
    "        temp['co_stkdate'] = pd.to_datetime(temp['co_stkdate'], format='%d-%m-%Y')\n",
    "        temp.set_index('co_stkdate', inplace=True,drop=True)\n",
    "        temp.sort_index(inplace=True, ascending=True)\n",
    "\n",
    "        maindf = maindf.merge(temp, how='left', left_index=True, right_index=True)#.fillna(method='ffill')\n",
    "    \n",
    "    maindf.dropna(inplace=True)\n",
    "    maindf.sort_index(ascending=False,inplace=True)\n",
    "    maindf.to_csv(f\"{data}.csv\")\n",
    "\n",
    "getTS()\n",
    "getTS(data='nse_market_cap')"
   ]
  },
  {
   "cell_type": "code",
   "execution_count": 13,
   "id": "frank-auckland",
   "metadata": {},
   "outputs": [
    {
     "name": "stdout",
     "output_type": "stream",
     "text": [
      "['APOLLOHOSP.NS', 'ASIANPAINT.NS', 'BAJFINANCE.NS', 'BPCL.NS', 'BHARTIARTL.NS', 'BRITANNIA.NS', 'CIPLA.NS', 'COALINDIA.NS', 'DIVISLAB.NS', 'DRREDDY.NS', 'EICHERMOT.NS', 'GRASIM.NS', 'ADANIPORTS.NS', 'HCLTECH.NS', 'HDFCBANK.NS', 'HDFCLIFE.NS', 'HEROMOTOCO.NS', 'HINDALCO.NS', 'HINDUNILVR.NS', 'HDFC.NS', 'ICICIBANK.NS', 'ITC.NS', 'INDUSINDBK.NS', 'INFY.NS', 'JSWSTEEL.NS', 'KOTAKBANK.NS', 'ULTRACEMCO.NS', 'LT.NS', 'M&M.NS', 'TECHM.NS', 'MARUTI.NS', 'NTPC.NS', 'NESTLEIND.NS', 'ONGC.NS', 'TCS.NS', 'POWERGRID.NS', 'RELIANCE.NS', 'SBILIFE.NS', 'UPL.NS', 'SHREECEM.NS', 'SBIN.NS', 'SUNPHARMA.NS', 'TATAMOTORS.NS', 'TATASTEEL.NS', 'TATACONSUM.NS', 'TITAN.NS', 'AXISBANK.NS', 'WIPRO.NS', 'BAJAJ-AUTO.NS', 'BAJAJFINSV.NS']\n",
      "[*********************100%***********************]  50 of 50 completed\n"
     ]
    }
   ],
   "source": [
    "nifty50 = [x.strip() for x in open('nifty50tickers.txt')] #and any tickers you'd add to be retrived\n",
    "print(nifty50)\n",
    "dff = yf.download(tickers=nifty50, period='6mo')\n",
    "stocks = dff['Close'].copy()\n",
    "stocks.sort_index(ascending=False, inplace=True)\n",
    "stocks = stocks[nifty50]\n",
    "stocks.to_csv('yfinanceNiftyData.csv')\n",
    "#stocks"
   ]
  }
 ],
 "metadata": {
  "kernelspec": {
   "display_name": "Python 3",
   "language": "python",
   "name": "python3"
  },
  "language_info": {
   "codemirror_mode": {
    "name": "ipython",
    "version": 3
   },
   "file_extension": ".py",
   "mimetype": "text/x-python",
   "name": "python",
   "nbconvert_exporter": "python",
   "pygments_lexer": "ipython3",
   "version": "3.7.3"
  }
 },
 "nbformat": 4,
 "nbformat_minor": 5
}
